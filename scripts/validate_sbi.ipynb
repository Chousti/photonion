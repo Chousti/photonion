{
 "cells": [
  {
   "cell_type": "markdown",
   "metadata": {},
   "source": [
    "# SBI validation "
   ]
  },
  {
   "cell_type": "code",
   "execution_count": 1,
   "metadata": {},
   "outputs": [],
   "source": [
    "# Copyright (C) 2024 Nicholas Choustikov, Richard Stiskalek\n",
    "# This program is free software; you can redistribute it and/or modify it\n",
    "# under the terms of the GNU General Public License as published by the\n",
    "# Free Software Foundation; either version 3 of the License, or (at your\n",
    "# option) any later version.\n",
    "#\n",
    "# This program is distributed in the hope that it will be useful, but\n",
    "# WITHOUT ANY WARRANTY; without even the implied warranty of\n",
    "# MERCHANTABILITY or FITNESS FOR A PARTICULAR PURPOSE.  See the GNU General\n",
    "# Public License for more details.\n",
    "#\n",
    "# You should have received a copy of the GNU General Public License along\n",
    "# with this program; if not, write to the Free Software Foundation, Inc.,\n",
    "# 51 Franklin Street, Fifth Floor, Boston, MA  02110-1301, USA.\n",
    "import numpy as np\n",
    "import matplotlib.pyplot as plt\n",
    "import matplotlib as mpl\n",
    "from matplotlib.colors import Normalize\n",
    "\n",
    "import photonion\n",
    "import setup\n",
    "import pandas as pd\n",
    "from scipy.optimize import curve_fit\n",
    "from astropy.cosmology import FlatLambdaCDM\n",
    "cosmology = FlatLambdaCDM(70, 0.3)\n",
    "custom_colours = [(50/256,14/256,59/256), (76/256, 42/256, 133/256), (107/256, 127/256, 215/256), (188/256, 237/256, 246/256), (221/256, 251/256, 210/256)]\n",
    "\n",
    "%load_ext autoreload\n",
    "%autoreload 2\n",
    "%matplotlib inline\n",
    "\n",
    "fpath = \"/Users/choustikov/Documents/DPhil/science/SPHINX/SPHINX-20-data/data/all_basic_data.csv\"\n",
    "df = pd.read_csv(fpath)\n",
    "basepath = \"../models\"\n",
    "target = \"nion\"\n",
    "kind = \"JADES\"\n",
    "train_new = False\n",
    "num_nets = 10\n",
    "fesc_min = 1e-6\n",
    "\n",
    "# Build class to read/manipulate SPHINX data\n",
    "frame = photonion.SPHINXData(fpath)\n",
    "\n",
    "# Get test/train data split\n",
    "Xtrain, Xtest, ytrain, ytest, train_galindxs, test_galindxs, __ = frame.make_Xy(\n",
    "    setup.test_fraction, target_name=target, fesc_min=fesc_min, reweigh_data=True, n_reweigh=5, kind='JADES', muv_norm=True)"
   ]
  },
  {
   "cell_type": "markdown",
   "metadata": {},
   "source": [
    "## Train the model\n",
    "\n",
    "Hyperparameters assumed to have been previously find by `run_hyper_sbi.py` script."
   ]
  },
  {
   "cell_type": "code",
   "execution_count": 2,
   "metadata": {},
   "outputs": [
    {
     "name": "stderr",
     "output_type": "stream",
     "text": [
      "/Users/choustikov/Documents/DPhil/science/test/testvenv/lib/python3.12/site-packages/sklearn/base.py:380: InconsistentVersionWarning: Trying to unpickle estimator StandardScaler from version 1.4.0 when using version 1.6.1. This might lead to breaking code or invalid results. Use at your own risk. For more info please refer to:\n",
      "https://scikit-learn.org/stable/model_persistence.html#security-maintainability-limitations\n",
      "  warnings.warn(\n"
     ]
    }
   ],
   "source": [
    "target_scaling = \"logit_standard\" if target == \"fesc\" else \"standard\"\n",
    "name = f\"SBI_{kind}_{target}\"\n",
    "if train_new:\n",
    "    train_args, model_args = setup.sbi_read_best_params(basepath, target, kind)\n",
    "    print(f\"Train args: {train_args}\")\n",
    "    print(f\"Model args: {model_args}\\n\")\n",
    "    reg = photonion.SBIRegressor(target_scaling, num_nets=num_nets,\n",
    "                                 out_dir=basepath, name=name, model_type='mdn')\n",
    "    reg.fit(Xtrain, ytrain, verbose=True)\n",
    "else:\n",
    "    reg = photonion.SBIRegressor.from_config(basepath, name)"
   ]
  },
  {
   "cell_type": "markdown",
   "metadata": {},
   "source": [
    "## Model validation\n",
    "\n",
    "### Goodness-of-fit checks"
   ]
  },
  {
   "cell_type": "code",
   "execution_count": 3,
   "metadata": {},
   "outputs": [
    {
     "name": "stderr",
     "output_type": "stream",
     "text": [
      "Sampling: 100%|██████████| 2610/2610 [00:04<00:00, 532.25it/s]"
     ]
    },
    {
     "name": "stdout",
     "output_type": "stream",
     "text": [
      "\n",
      "Mean_AE_loglog: 0.00417\n",
      "Median_AE_loglog: 0.00304\n",
      "RMSE_loglog: 0.00588\n",
      "Mean_AE_latent: 0.43327\n",
      "Median_AE_latent: 0.31648\n",
      "RMSE_latent: 0.60688\n"
     ]
    },
    {
     "name": "stderr",
     "output_type": "stream",
     "text": [
      "\n"
     ]
    }
   ],
   "source": [
    "scores = reg.evaluate(Xtest, ytest, n_samples=1000)\n",
    "print()\n",
    "for k, v in scores.items():\n",
    "    print(f\"{k}: {v:.5f}\")"
   ]
  },
  {
   "cell_type": "markdown",
   "metadata": {},
   "source": [
    "### Comparison of $q(\\theta_{\\rm train} | X_{\\rm train})$ and $q(\\theta_{\\rm test} | X_{\\rm train})$"
   ]
  },
  {
   "cell_type": "code",
   "execution_count": 14,
   "metadata": {},
   "outputs": [
    {
     "name": "stderr",
     "output_type": "stream",
     "text": [
      "Log-probability: 100%|██████████| 10350/10350 [01:39<00:00, 104.48it/s]\n",
      "Log-probability: 100%|██████████| 2610/2610 [00:25<00:00, 100.63it/s]\n"
     ]
    }
   ],
   "source": [
    "lp_train = reg.log_prob(Xtrain, ytrain)\n",
    "lp_test = reg.log_prob(Xtest, ytest)"
   ]
  },
  {
   "cell_type": "code",
   "execution_count": 15,
   "metadata": {},
   "outputs": [
    {
     "data": {
      "image/png": "[encoded data removed]",
      "text/plain": [
       "<Figure size 640x480 with 1 Axes>"
      ]
     },
     "metadata": {},
     "output_type": "display_data"
    }
   ],
   "source": [
    "lp_min = -7.5\n",
    "\n",
    "plt.figure()\n",
    "plt.title(\"Train- and test-set log-probabilities.\")\n",
    "plt.hist(lp_train[lp_train > lp_min], bins=\"auto\", histtype=\"step\",\n",
    "         label=r\"$\\theta_{\\rm train}$\", density=True)\n",
    "plt.hist(lp_test[lp_test > lp_min], bins=\"auto\", histtype=\"step\",\n",
    "         label=r\"$\\theta_{\\rm test}$\", density=True)\n",
    "plt.legend()\n",
    "plt.xlabel(r\"$\\log q(\\theta | X_{\\rm train})$\")\n",
    "plt.ylabel(\"Normalised counts\")\n",
    "plt.tight_layout()\n",
    "plt.savefig(f\"../plots/sbi_{target}_logprob.png\", dpi=450)"
   ]
  },
  {
   "cell_type": "markdown",
   "metadata": {},
   "source": [
    "### Validation and train log-probabilities"
   ]
  },
  {
   "cell_type": "code",
   "execution_count": 16,
   "metadata": {},
   "outputs": [
    {
     "data": {
      "image/png": "[encoded data removed]",
      "text/plain": [
       "<Figure size 640x480 with 1 Axes>"
      ]
     },
     "metadata": {},
     "output_type": "display_data"
    }
   ],
   "source": [
    "yval = reg.validation_log_probs\n",
    "ytrain = reg.training_log_probs\n",
    "plot_train = False\n",
    "\n",
    "plt.figure()\n",
    "cols = plt.rcParamsDefault[\"axes.prop_cycle\"].by_key()[\"color\"]\n",
    "plt.title(\"Train- and validation-set log-probabilities.\")\n",
    "for i in range(reg.num_nets):\n",
    "    plt.plot(np.arange(len(yval[i])), yval[i],\n",
    "             label=r\"$\\theta_{\\rm val}$\" if i == 0 else None, c=cols[i])\n",
    "    if plot_train:\n",
    "        plt.plot(np.arange(len(ytrain[i])), ytrain[i],\n",
    "                 label=r\"$\\theta_{\\rm train}$\" if i == 0 else None, c=cols[i],\n",
    "                 ls=\"dashed\")\n",
    "plt.xlabel(\"Epoch\")\n",
    "plt.ylabel(r\"$\\log q(\\theta | X_{\\rm train})$\")\n",
    "plt.legend()\n",
    "plt.savefig(f\"../plots/sbi_{target}_logprob_evolution.png\", dpi=450)"
   ]
  },
  {
   "cell_type": "markdown",
   "metadata": {},
   "source": [
    "### PIT plots"
   ]
  },
  {
   "cell_type": "code",
   "execution_count": 17,
   "metadata": {},
   "outputs": [
    {
     "name": "stderr",
     "output_type": "stream",
     "text": [
      "Sampling: 100%|██████████| 2610/2610 [00:04<00:00, 547.97it/s]\n"
     ]
    }
   ],
   "source": [
    "pit = reg.calculate_pit(Xtest, ytest, n_samples=1000)"
   ]
  },
  {
   "cell_type": "code",
   "execution_count": 18,
   "metadata": {},
   "outputs": [
    {
     "data": {
      "image/png": "[encoded data removed]",
      "text/plain": [
       "<Figure size 331x331 with 1 Axes>"
      ]
     },
     "metadata": {},
     "output_type": "display_data"
    }
   ],
   "source": [
    "#making the plot\n",
    "f, axs = plt.subplots(1,1,figsize=(3.31,3.31),sharex=True,sharey=True)\n",
    "plt.subplots_adjust(left=0.17, right=0.85, top=0.95, bottom=0.15)\n",
    "\n",
    "unicov = [np.sort(np.random.uniform(0, 1, len(pit))) for j in range(1000)]\n",
    "unip = np.percentile(unicov, [5, 16, 84, 95], axis=0)\n",
    "\n",
    "cdf = np.linspace(0, 1, len(pit))\n",
    "\n",
    "axs.plot(pit, cdf, color=custom_colours[0])\n",
    "axs.fill_between(cdf, unip[0], unip[-1], color=custom_colours[2], alpha=0.2)\n",
    "axs.fill_between(cdf, unip[1], unip[-2], color=custom_colours[2], alpha=0.4)\n",
    "\n",
    "axs.plot(cdf, cdf, c='r', ls='--')\n",
    "axs.set_xlabel(r'$\\rm Predicted\\;Percentile$')\n",
    "axs.set_ylabel(r'$\\rm Empirical\\;Percentile$')\n",
    "axs.set_xlim([0,1])\n",
    "axs.set_ylim([0,1])\n",
    "\n",
    "plt.savefig('../plots/PIT.png', bbox_inches='tight')"
   ]
  },
  {
   "cell_type": "markdown",
   "metadata": {},
   "source": [
    "### Latent space distribution of residuals on the test set"
   ]
  },
  {
   "cell_type": "code",
   "execution_count": 19,
   "metadata": {},
   "outputs": [
    {
     "name": "stderr",
     "output_type": "stream",
     "text": [
      "Sampling: 100%|██████████| 2610/2610 [00:05<00:00, 503.60it/s]\n",
      "Summarizing: 100%|██████████| 2610/2610 [00:31<00:00, 83.84it/s]\n"
     ]
    }
   ],
   "source": [
    "ysummary = reg.sample_summarized(Xtest, n_samples=3000, inverse_transform=False)"
   ]
  },
  {
   "cell_type": "code",
   "execution_count": 20,
   "metadata": {},
   "outputs": [
    {
     "name": "stderr",
     "output_type": "stream",
     "text": [
      "/var/folders/kt/2sb01mhd4gdfwk888xqz6q600000gq/T/ipykernel_9533/3316152785.py:17: UserWarning: No artists with labels found to put in legend.  Note that artists whose label start with an underscore are ignored when legend() is called with no argument.\n",
      "  axs.legend(frameon=False)\n"
     ]
    },
    {
     "data": {
      "image/png": "[encoded data removed]",
      "text/plain": [
       "<Figure size 331x331 with 1 Axes>"
      ]
     },
     "metadata": {},
     "output_type": "display_data"
    }
   ],
   "source": [
    "# Standardised residuals plot\n",
    "f, axs = plt.subplots(1,1,figsize=(3.31,3.31),sharex=True,sharey=True)\n",
    "plt.subplots_adjust(left=0.17, right=0.85, top=0.95, bottom=0.15)\n",
    "ymean = ysummary[:, 0]\n",
    "ystd = (ysummary[:, 2] - ysummary[:, 1]) / 2\n",
    "z = (ymean - reg.transform_target(ytest)) / ystd\n",
    "\n",
    "axs.hist(z, bins=75, density=1, histtype='step', color=custom_colours[0])\n",
    "\n",
    "xrange = np.linspace(-4, 4, 100)\n",
    "axs.plot(xrange, np.exp(-0.5 * xrange ** 2) / np.sqrt(2 * np.pi), color=custom_colours[2])#, label=r\"$\\rm Standard\\;Gaussian$\")\n",
    "\n",
    "axs.set_xlabel(r\"$(\\hat{y} - y) / \\sigma$\")\n",
    "axs.set_ylabel(r\"$\\rm Normalised \\;counts$\")\n",
    "\n",
    "axs.set_xlim(-5, 5)\n",
    "axs.legend(frameon=False)\n",
    "\n",
    "plt.savefig(f\"../plots/sbi_{target}_latent_residuals.png\", dpi=450)"
   ]
  },
  {
   "cell_type": "markdown",
   "metadata": {},
   "source": [
    "## Full histogram comparison"
   ]
  },
  {
   "cell_type": "code",
   "execution_count": 21,
   "metadata": {},
   "outputs": [],
   "source": [
    "# Collecting data from the SPHINX public data release (Katz+23)\n",
    "\n",
    "ndir = 10\n",
    "all_fesc = []\n",
    "all_zs = []\n",
    "all_halo_id = []\n",
    "all_f070w = []\n",
    "all_f090w = []\n",
    "all_f115w = []\n",
    "all_f140m = []\n",
    "all_f150w = []\n",
    "all_f162m = []\n",
    "all_f182m = []\n",
    "all_f200w = []\n",
    "all_f210m = []\n",
    "all_f250m = []\n",
    "all_f277w = []\n",
    "all_f300m = []\n",
    "all_f335m = []\n",
    "all_f356w = []\n",
    "all_f360m = []\n",
    "all_f410m = []\n",
    "all_f430m = []\n",
    "all_f444w = []\n",
    "all_f460m = []\n",
    "all_f480m = []\n",
    "all_nion = []\n",
    "all_directions = []\n",
    "\n",
    "# Iterate over rows/objects in the dataset\n",
    "for i, row in df.iterrows():\n",
    "   # Loop over 10 line of sight directions\n",
    "   for j in range(ndir):\n",
    "      all_directions.append(j)\n",
    "      all_fesc.append(row['f_esc'])\n",
    "      all_zs.append(row['redshift'])\n",
    "      all_halo_id.append(row[f'halo_id'])\n",
    "      all_f070w.append(row[f'F070W_dir_{j}'])\n",
    "      all_f090w.append(row[f'F090W_dir_{j}'])\n",
    "      all_f115w.append(row[f'F115W_dir_{j}'])\n",
    "      all_f140m.append(row[f'F140M_dir_{j}'])\n",
    "      all_f150w.append(row[f'F150W_dir_{j}'])\n",
    "      all_f162m.append(row[f'F162M_dir_{j}'])\n",
    "      all_f182m.append(row[f'F182M_dir_{j}'])\n",
    "      all_f200w.append(row[f'F200W_dir_{j}'])\n",
    "      all_f210m.append(row[f'F210M_dir_{j}'])\n",
    "      all_f250m.append(row[f'F250M_dir_{j}'])\n",
    "      all_f277w.append(row[f'F277W_dir_{j}'])\n",
    "      all_f300m.append(row[f'F300M_dir_{j}'])\n",
    "      all_f335m.append(row[f'F335M_dir_{j}'])\n",
    "      all_f356w.append(row[f'F356W_dir_{j}'])\n",
    "      all_f360m.append(row[f'F360M_dir_{j}'])\n",
    "      all_f410m.append(row[f'F410M_dir_{j}'])\n",
    "      all_f430m.append(row[f'F430M_dir_{j}'])\n",
    "      all_f444w.append(row[f'F444W_dir_{j}'])\n",
    "      all_f460m.append(row[f'F460M_dir_{j}'])\n",
    "      all_f480m.append(row[f'F480M_dir_{j}'])\n",
    "      all_nion.append(row['f_esc'] + row['ionizing_luminosity'])\n",
    "\n",
    "# Convert to arrays for future ease\n",
    "all_directions = np.array(all_directions)\n",
    "all_fesc = np.array(all_fesc)\n",
    "all_zs = np.array(all_zs)\n",
    "all_halo_id = np.array(all_halo_id)\n",
    "all_f070w = np.array(all_f070w)\n",
    "all_f090w = np.array(all_f090w)\n",
    "all_f115w = np.array(all_f115w)\n",
    "all_f140m = np.array(all_f140m)\n",
    "all_f150w = np.array(all_f150w)\n",
    "all_f162m = np.array(all_f162m)\n",
    "all_f182m = np.array(all_f182m)\n",
    "all_f200w = np.array(all_f200w)\n",
    "all_f210m = np.array(all_f210m)\n",
    "all_f250m = np.array(all_f250m)\n",
    "all_f277w = np.array(all_f277w)\n",
    "all_f300m = np.array(all_f300m)\n",
    "all_f335m = np.array(all_f335m)\n",
    "all_f356w = np.array(all_f356w)\n",
    "all_f360m = np.array(all_f360m)\n",
    "all_f410m = np.array(all_f410m)\n",
    "all_f430m = np.array(all_f430m)\n",
    "all_f444w = np.array(all_f444w)\n",
    "all_f460m = np.array(all_f460m)\n",
    "all_f480m = np.array(all_f480m)\n",
    "all_nion = np.array(all_nion)"
   ]
  },
  {
   "cell_type": "code",
   "execution_count": 22,
   "metadata": {},
   "outputs": [],
   "source": [
    "def get_MABs(f090, f115, f150, f200, f277, f356, z, return_muv=False):\n",
    "   \"\"\"\n",
    "   Fit the UV continuum and return the apparent UV magnitude at 1500A (rest)\n",
    "   NOTE: While we already know MABs for SPHINX galaxies, we take this approach assuming\n",
    "         we only had the photometric information\n",
    "\n",
    "   Parameters\n",
    "   ----------\n",
    "   f090 : float\n",
    "      magnitude in F090W\n",
    "   f115 : float\n",
    "      magnitude in F115W\n",
    "   f150 : float\n",
    "      magnitude in F150W\n",
    "   f200 : float\n",
    "      magnitude in F200W\n",
    "   f277 : float\n",
    "      magnitude in F277W\n",
    "   f356 : float\n",
    "      magnitude in F356W\n",
    "   z    : float\n",
    "      redshift\n",
    "   return_muv : boolean (optional)\n",
    "      return the result as an absolute magnitude\n",
    "\n",
    "   Returns\n",
    "   -------\n",
    "   str\n",
    "\n",
    "   \"\"\"\n",
    "\n",
    "   # generic power law\n",
    "   def func_loc(x,a,b):\n",
    "      return a*x**b\n",
    "   \n",
    "   # filter wavelengths\n",
    "   #  90, 115, 150, 200, 277, 335, 356, 410, 444\n",
    "   ws = np.array([0.89824364, 1.14859202, 1.49442228, 1.97811383, 2.76120868, 3.3587610, 3.54834844, 4.07932817, 4.37878307])\n",
    "   \n",
    "   # convert MAB to MUV\n",
    "   def get_muv(ab,z):\n",
    "      lum_dist = cosmology.luminosity_distance(z).to('pc').value\n",
    "      M = ab + 5*(1 - np.log10(lum_dist)) +2.5*np.log10(1+z)\n",
    "      return M\n",
    "   \n",
    "   # choosing the closest filters to 1500A (rest)\n",
    "   MABs = []\n",
    "   for i in range(len(z)):\n",
    "      if (z[i] >= 4.5) & (z[i] < 5.25):\n",
    "         flux = np.array([f090[i], f115[i], f150[i]])\n",
    "         w = np.array([ws[0], ws[1], ws[2]])\n",
    "      elif (z[i]>= 5.25) & (z[i] < 7.25):\n",
    "         flux = np.array([f115[i], f150[i], f200[i]])\n",
    "         w = np.array([ws[1], ws[2], ws[3]])\n",
    "      elif (z[i] >= 7.25) & (z[i] < 9.75):\n",
    "         flux = np.array([f150[i], f200[i], f277[i]])\n",
    "         w = np.array([ws[2], ws[3], ws[4]])\n",
    "      elif (z[i] >= 9.75) & (z[i] <= 13):\n",
    "         flux = np.array([f200[i], f277[i], f356[i]])\n",
    "         w = np.array([ws[3], ws[4], ws[6]])\n",
    "      else:\n",
    "         print(f'{z[i]} outside redshift range, no known model')\n",
    "         continue\n",
    "      \n",
    "      # fit the function\n",
    "      val, pcov = curve_fit(func_loc, w, (flux))\n",
    "      \n",
    "      # find value at 1500A (red-shifted)\n",
    "      lam = 1500  / 1e4 * (1 + z[i])\n",
    "      MAB = func_loc(lam, *val)\n",
    "      if return_muv:\n",
    "         MABs.append(get_muv((MAB), z[i]))\n",
    "      else:\n",
    "         MABs.append((MAB))\n",
    "   return np.array(MABs)\n",
    "\n",
    "all_mab = get_MABs(all_f090w, all_f115w, all_f150w, all_f200w, all_f277w, all_f356w, all_zs, return_muv=False)"
   ]
  },
  {
   "cell_type": "code",
   "execution_count": 23,
   "metadata": {},
   "outputs": [
    {
     "name": "stderr",
     "output_type": "stream",
     "text": [
      "Sampling: 100%|██████████| 12970/12970 [00:22<00:00, 573.28it/s]\n",
      "Summarizing: 100%|██████████| 12970/12970 [00:29<00:00, 446.08it/s]\n"
     ]
    },
    {
     "name": "stdout",
     "output_type": "stream",
     "text": [
      "For ${\\rm All\\; } z$, MAE = 0.31\n"
     ]
    },
    {
     "name": "stderr",
     "output_type": "stream",
     "text": [
      "Sampling: 100%|██████████| 3620/3620 [00:06<00:00, 573.19it/s]\n",
      "Summarizing: 100%|██████████| 3620/3620 [00:08<00:00, 442.85it/s]\n"
     ]
    },
    {
     "name": "stdout",
     "output_type": "stream",
     "text": [
      "For $z = 4.64$, MAE = 0.31\n"
     ]
    },
    {
     "name": "stderr",
     "output_type": "stream",
     "text": [
      "Sampling: 100%|██████████| 3150/3150 [00:05<00:00, 574.13it/s]\n",
      "Summarizing: 100%|██████████| 3150/3150 [00:07<00:00, 448.96it/s]\n"
     ]
    },
    {
     "name": "stdout",
     "output_type": "stream",
     "text": [
      "For $z = 5$, MAE = 0.32\n"
     ]
    },
    {
     "name": "stderr",
     "output_type": "stream",
     "text": [
      "Sampling: 100%|██████████| 2700/2700 [00:04<00:00, 576.50it/s]\n",
      "Summarizing: 100%|██████████| 2700/2700 [00:06<00:00, 441.53it/s]\n"
     ]
    },
    {
     "name": "stdout",
     "output_type": "stream",
     "text": [
      "For $z = 6$, MAE = 0.29\n"
     ]
    },
    {
     "name": "stderr",
     "output_type": "stream",
     "text": [
      "Sampling: 100%|██████████| 1720/1720 [00:02<00:00, 574.98it/s]\n",
      "Summarizing: 100%|██████████| 1720/1720 [00:03<00:00, 451.00it/s]\n"
     ]
    },
    {
     "name": "stdout",
     "output_type": "stream",
     "text": [
      "For $z = 7$, MAE = 0.36\n"
     ]
    },
    {
     "name": "stderr",
     "output_type": "stream",
     "text": [
      "Sampling: 100%|██████████| 670/670 [00:01<00:00, 572.40it/s]\n",
      "Summarizing: 100%|██████████| 670/670 [00:01<00:00, 450.63it/s]\n"
     ]
    },
    {
     "name": "stdout",
     "output_type": "stream",
     "text": [
      "For $z = 8$, MAE = 0.29\n"
     ]
    },
    {
     "name": "stderr",
     "output_type": "stream",
     "text": [
      "Sampling: 100%|██████████| 630/630 [00:01<00:00, 572.64it/s]\n",
      "Summarizing: 100%|██████████| 630/630 [00:01<00:00, 459.00it/s]\n"
     ]
    },
    {
     "name": "stdout",
     "output_type": "stream",
     "text": [
      "For $z = 9$, MAE = 0.29\n"
     ]
    },
    {
     "name": "stderr",
     "output_type": "stream",
     "text": [
      "Sampling: 100%|██████████| 480/480 [00:00<00:00, 572.20it/s]\n",
      "Summarizing: 100%|██████████| 480/480 [00:01<00:00, 418.37it/s]\n"
     ]
    },
    {
     "name": "stdout",
     "output_type": "stream",
     "text": [
      "For $z = 10$, MAE = 0.25\n"
     ]
    },
    {
     "data": {
      "image/png": "[encoded data removed]",
      "text/plain": [
       "<Figure size 697x348.5 with 9 Axes>"
      ]
     },
     "metadata": {},
     "output_type": "display_data"
    }
   ],
   "source": [
    "def moving_window(xv,yv,xmin,xmax,window,dx,median=False,min_gal=50,log=False):\n",
    "   \"\"\"\n",
    "   \"\"\"\n",
    "   if log:\n",
    "      yv = 10.**yv\n",
    "      x1 = xmin\n",
    "      x2 = xmin + window\n",
    "\n",
    "      xx = []; yy = []; ss = []\n",
    "      while x2 < xmax:\n",
    "         filt = (xv >= x1) & (xv < x2)\n",
    "         if filt.sum() > min_gal:\n",
    "            xx.append(0.5 * (x1 + x2))\n",
    "            if median:\n",
    "                  yy.append(np.median(yv[filt]))\n",
    "            else:\n",
    "                  yy.append(yv[filt].mean())\n",
    "            ss.append(yv[filt].std())\n",
    "\n",
    "         x1 += dx\n",
    "         x2 = x1 + window\n",
    "\n",
    "      return xx,np.log10(yy),np.log10(ss)\n",
    "   else:\n",
    "      x1 = xmin\n",
    "      x2 = xmin + window\n",
    "\n",
    "      xx = []; yy = []; ss = []\n",
    "      while x2 < xmax:\n",
    "         filt = (xv >= x1) & (xv < x2)\n",
    "         if filt.sum() > min_gal:\n",
    "            xx.append(0.5 * (x1 + x2))\n",
    "            if median:\n",
    "                  yy.append(np.median(yv[filt]))\n",
    "            else:\n",
    "                  yy.append(yv[filt].mean())\n",
    "            ss.append(yv[filt].std())\n",
    "\n",
    "         x1 += dx\n",
    "         x2 = x1 + window\n",
    "\n",
    "      return xx,yy,ss\n",
    "      \n",
    "\n",
    "\n",
    "f, axs = plt.subplots(2,4,figsize=(6.97,6.97 * 2/4))\n",
    "plt.subplots_adjust(left=0.17, right=0.85, top=0.95, bottom=0.15)\n",
    "axs = axs.ravel()\n",
    "redshifts = ['all', 4.64, 5, 6, 7, 8, 9, 10]\n",
    "red_labs = [r'${\\rm All\\; } z$', r'$z = 4.64$', r'$z = 5$', r'$z = 6$', r'$z = 7$', r'$z = 8$', r'$z = 9$', r'$z = 10$']\n",
    "plt.subplots_adjust(wspace=0., hspace=0.)\n",
    "cmap = 'Blues'\n",
    "\n",
    "verbose = False\n",
    "only_training = False\n",
    "aayush = False\n",
    "log = True\n",
    "median=True\n",
    "\n",
    "#Get data\n",
    "X = [all_f115w, all_f150w, all_f200w, all_f277w, all_f335m, all_f356w, all_f410m, all_f444w, all_f115w-all_f150w, all_f150w-all_f277w, all_f277w-all_f444w, all_mab, all_zs]\n",
    "X = [all_f115w - all_mab, all_f150w - all_mab, all_f200w - all_mab, all_f277w - all_mab, all_f335m - all_mab, all_f356w - all_mab, all_f410m - all_mab, all_f444w - all_mab, all_f115w-all_f150w, all_f150w-all_f277w, all_f277w-all_f444w,all_mab, all_zs]\n",
    "y = all_nion\n",
    "\n",
    "#just the training set\n",
    "if only_training:\n",
    "    X = Xtest\n",
    "    red_test = Xtest[:,-1]\n",
    "    y = ytest\n",
    "\n",
    "for i,ax in enumerate(axs):   \n",
    "   #Build the redshift filter\n",
    "   \n",
    "   if only_training:\n",
    "      z_filt = (red_test == redshifts[i]) & (~np.isnan(y))\n",
    "      if redshifts[i] == 'all':\n",
    "         z_filt = (~np.isnan(y))\n",
    "   else:\n",
    "      z_filt = (all_zs == redshifts[i]) & (~np.isnan(y)) \n",
    "      if redshifts[i] == 'all':\n",
    "         z_filt = (all_zs >= -1) & (~np.isnan(y)) \n",
    "\n",
    "      z_filt &= all_fesc > np.log10(fesc_min)\n",
    "   \n",
    "   #Apply the redshift filter\n",
    "   Xval = [x[z_filt] for x in X]#.T    \n",
    "   y_true = y[z_filt]\n",
    "\n",
    "   #Sample from the posterior\n",
    "   Xs = np.array(Xval).T\n",
    "   ys = reg.sample_summarized(Xs, n_samples=100)\n",
    "   ys = ys.T[0]\n",
    "\n",
    "   #plotting the data\n",
    "   bins = np.linspace(47, 53.5, 76)\n",
    "   thing = ax.hist2d(y_true, ys,  bins=bins, cmap=cmap, rasterized=True, vmin=0, vmax=10)\n",
    "   \n",
    "   #plot the 1:1 line\n",
    "   xs = np.linspace(47, 53.5, 100)\n",
    "   ax.plot(xs, xs, c='r', lw=1, ls='--')\n",
    "\n",
    "   #Calculate median average error\n",
    "   MAE = np.median(np.abs(ys - y_true))\n",
    "\n",
    "   #plot the running mean\n",
    "   xx,yy,ss = moving_window(ys,y_true, 48.5,53.2,0.4,0.25, median=median, min_gal=40,log=log)\n",
    "   if median:\n",
    "      ax.plot((xx), (yy), lw=1.5, c='r', label=r'$\\rm Running\\; Median$')\n",
    "   else:\n",
    "      ax.plot((xx), (yy), lw=1.5, c='r', label=r'$\\rm Running\\; Mean$')\n",
    "\n",
    "   #print the redshift and MAE information\n",
    "   stri = f'{MAE:.2f}'\n",
    "   ax.text(48.65, 47.25, s=r'${\\rm MAE} = $' + rf'$\\; {{{stri}}}$', color='w')\n",
    "   ax.text(47.25, 52.5, s=red_labs[i], color='w')\n",
    "   print(f'For {red_labs[i]}, MAE = {np.round(MAE, 2)}')\n",
    "\n",
    "   if aayush:\n",
    "      ax.set_xlim(47, 53.5)\n",
    "      ax.set_ylim(47, 53.5)\n",
    "   else:\n",
    "      ax.set_xlim(47, 53)\n",
    "      ax.set_ylim(47, 53)\n",
    "\n",
    "      #make labels and ticks look nice\n",
    "      if i % 4 != 0:\n",
    "         ax.set_yticks([])\n",
    "      elif i ==0:\n",
    "         ax.set_yticks([49, 51, 53]) \n",
    "         ax.set_ylabel(r'${\\rm Predicted\\; } \\log_{10}(\\dot{N}_{\\rm ion})$')\n",
    "      elif i ==4:\n",
    "         ax.set_yticks([47, 49, 51, 53])\n",
    "         ax.set_ylabel(r'${\\rm Predicted\\; } \\log_{10}(\\dot{N}_{\\rm ion})$')\n",
    "      if i < 4:\n",
    "         ax.set_xticks([])\n",
    "      elif i == 4:\n",
    "         ax.set_xticks([47, 49, 51, 53])\n",
    "         ax.set_xlabel(r'${\\rm True\\;} \\log_{10}(\\dot{N}_{\\rm ion})$')\n",
    "      else:\n",
    "         ax.set_xticks([49, 51, 53])\n",
    "         ax.set_xlabel(r'${\\rm True\\;} \\log_{10}(\\dot{N}_{\\rm ion})$')\n",
    "\n",
    "      #add a legend\n",
    "      if i == 1:\n",
    "         ax.legend(frameon=False, bbox_to_anchor=(1, 1.075), loc='center', ncols=2)\n",
    "\n",
    "#Colorbar trickery\n",
    "cax = f.add_axes([0.85, 0.15, 0.01, 0.8])\n",
    "cbar =  mpl.colorbar.ColorbarBase(cax, norm=Normalize(0,10), spacing='proportional', cmap=cmap)\n",
    "cbar.ax.set_ylabel(r'$\\rm Number\\; of\\; Sightlines$', rotation=270, fontsize=8, labelpad=10)\n",
    "\n",
    "#save figure\n",
    "plt.savefig('../plots/nion_model_sphinx.png', bbox_inches='tight')\n"
   ]
  },
  {
   "cell_type": "markdown",
   "metadata": {},
   "source": [
    "## SBI-ET comparison"
   ]
  },
  {
   "cell_type": "code",
   "execution_count": 23,
   "metadata": {},
   "outputs": [],
   "source": [
    "from scipy.stats import spearmanr"
   ]
  },
  {
   "cell_type": "code",
   "execution_count": 30,
   "metadata": {},
   "outputs": [],
   "source": [
    "Xtrain, Xtest, ytrain, ytest, train_galindxs, test_galindxs, __ = frame.make_Xy(\n",
    "    setup.test_fraction, target_name=target, fesc_min=fesc_min, reweigh_data=True, n_reweigh=5, kind='JADES', muv_norm=True)"
   ]
  },
  {
   "cell_type": "code",
   "execution_count": 31,
   "metadata": {},
   "outputs": [
    {
     "data": {
      "text/html": [
       "<style>#sk-container-id-1 {\n",
       "  /* Definition of color scheme common for light and dark mode */\n",
       "  --sklearn-color-text: black;\n",
       "  --sklearn-color-line: gray;\n",
       "  /* Definition of color scheme for unfitted estimators */\n",
       "  --sklearn-color-unfitted-level-0: #fff5e6;\n",
       "  --sklearn-color-unfitted-level-1: #f6e4d2;\n",
       "  --sklearn-color-unfitted-level-2: #ffe0b3;\n",
       "  --sklearn-color-unfitted-level-3: chocolate;\n",
       "  /* Definition of color scheme for fitted estimators */\n",
       "  --sklearn-color-fitted-level-0: #f0f8ff;\n",
       "  --sklearn-color-fitted-level-1: #d4ebff;\n",
       "  --sklearn-color-fitted-level-2: #b3dbfd;\n",
       "  --sklearn-color-fitted-level-3: cornflowerblue;\n",
       "\n",
       "  /* Specific color for light theme */\n",
       "  --sklearn-color-text-on-default-background: var(--sg-text-color, var(--theme-code-foreground, var(--jp-content-font-color1, black)));\n",
       "  --sklearn-color-background: var(--sg-background-color, var(--theme-background, var(--jp-layout-color0, white)));\n",
       "  --sklearn-color-border-box: var(--sg-text-color, var(--theme-code-foreground, var(--jp-content-font-color1, black)));\n",
       "  --sklearn-color-icon: #696969;\n",
       "\n",
       "  @media (prefers-color-scheme: dark) {\n",
       "    /* Redefinition of color scheme for dark theme */\n",
       "    --sklearn-color-text-on-default-background: var(--sg-text-color, var(--theme-code-foreground, var(--jp-content-font-color1, white)));\n",
       "    --sklearn-color-background: var(--sg-background-color, var(--theme-background, var(--jp-layout-color0, #111)));\n",
       "    --sklearn-color-border-box: var(--sg-text-color, var(--theme-code-foreground, var(--jp-content-font-color1, white)));\n",
       "    --sklearn-color-icon: #878787;\n",
       "  }\n",
       "}\n",
       "\n",
       "#sk-container-id-1 {\n",
       "  color: var(--sklearn-color-text);\n",
       "}\n",
       "\n",
       "#sk-container-id-1 pre {\n",
       "  padding: 0;\n",
       "}\n",
       "\n",
       "#sk-container-id-1 input.sk-hidden--visually {\n",
       "  border: 0;\n",
       "  clip: rect(1px 1px 1px 1px);\n",
       "  clip: rect(1px, 1px, 1px, 1px);\n",
       "  height: 1px;\n",
       "  margin: -1px;\n",
       "  overflow: hidden;\n",
       "  padding: 0;\n",
       "  position: absolute;\n",
       "  width: 1px;\n",
       "}\n",
       "\n",
       "#sk-container-id-1 div.sk-dashed-wrapped {\n",
       "  border: 1px dashed var(--sklearn-color-line);\n",
       "  margin: 0 0.4em 0.5em 0.4em;\n",
       "  box-sizing: border-box;\n",
       "  padding-bottom: 0.4em;\n",
       "  background-color: var(--sklearn-color-background);\n",
       "}\n",
       "\n",
       "#sk-container-id-1 div.sk-container {\n",
       "  /* jupyter's `normalize.less` sets `[hidden] { display: none; }`\n",
       "     but bootstrap.min.css set `[hidden] { display: none !important; }`\n",
       "     so we also need the `!important` here to be able to override the\n",
       "     default hidden behavior on the sphinx rendered scikit-learn.org.\n",
       "     See: https://github.com/scikit-learn/scikit-learn/issues/21755 */\n",
       "  display: inline-block !important;\n",
       "  position: relative;\n",
       "}\n",
       "\n",
       "#sk-container-id-1 div.sk-text-repr-fallback {\n",
       "  display: none;\n",
       "}\n",
       "\n",
       "div.sk-parallel-item,\n",
       "div.sk-serial,\n",
       "div.sk-item {\n",
       "  /* draw centered vertical line to link estimators */\n",
       "  background-image: linear-gradient(var(--sklearn-color-text-on-default-background), var(--sklearn-color-text-on-default-background));\n",
       "  background-size: 2px 100%;\n",
       "  background-repeat: no-repeat;\n",
       "  background-position: center center;\n",
       "}\n",
       "\n",
       "/* Parallel-specific style estimator block */\n",
       "\n",
       "#sk-container-id-1 div.sk-parallel-item::after {\n",
       "  content: \"\";\n",
       "  width: 100%;\n",
       "  border-bottom: 2px solid var(--sklearn-color-text-on-default-background);\n",
       "  flex-grow: 1;\n",
       "}\n",
       "\n",
       "#sk-container-id-1 div.sk-parallel {\n",
       "  display: flex;\n",
       "  align-items: stretch;\n",
       "  justify-content: center;\n",
       "  background-color: var(--sklearn-color-background);\n",
       "  position: relative;\n",
       "}\n",
       "\n",
       "#sk-container-id-1 div.sk-parallel-item {\n",
       "  display: flex;\n",
       "  flex-direction: column;\n",
       "}\n",
       "\n",
       "#sk-container-id-1 div.sk-parallel-item:first-child::after {\n",
       "  align-self: flex-end;\n",
       "  width: 50%;\n",
       "}\n",
       "\n",
       "#sk-container-id-1 div.sk-parallel-item:last-child::after {\n",
       "  align-self: flex-start;\n",
       "  width: 50%;\n",
       "}\n",
       "\n",
       "#sk-container-id-1 div.sk-parallel-item:only-child::after {\n",
       "  width: 0;\n",
       "}\n",
       "\n",
       "/* Serial-specific style estimator block */\n",
       "\n",
       "#sk-container-id-1 div.sk-serial {\n",
       "  display: flex;\n",
       "  flex-direction: column;\n",
       "  align-items: center;\n",
       "  background-color: var(--sklearn-color-background);\n",
       "  padding-right: 1em;\n",
       "  padding-left: 1em;\n",
       "}\n",
       "\n",
       "\n",
       "/* Toggleable style: style used for estimator/Pipeline/ColumnTransformer box that is\n",
       "clickable and can be expanded/collapsed.\n",
       "- Pipeline and ColumnTransformer use this feature and define the default style\n",
       "- Estimators will overwrite some part of the style using the `sk-estimator` class\n",
       "*/\n",
       "\n",
       "/* Pipeline and ColumnTransformer style (default) */\n",
       "\n",
       "#sk-container-id-1 div.sk-toggleable {\n",
       "  /* Default theme specific background. It is overwritten whether we have a\n",
       "  specific estimator or a Pipeline/ColumnTransformer */\n",
       "  background-color: var(--sklearn-color-background);\n",
       "}\n",
       "\n",
       "/* Toggleable label */\n",
       "#sk-container-id-1 label.sk-toggleable__label {\n",
       "  cursor: pointer;\n",
       "  display: block;\n",
       "  width: 100%;\n",
       "  margin-bottom: 0;\n",
       "  padding: 0.5em;\n",
       "  box-sizing: border-box;\n",
       "  text-align: center;\n",
       "}\n",
       "\n",
       "#sk-container-id-1 label.sk-toggleable__label-arrow:before {\n",
       "  /* Arrow on the left of the label */\n",
       "  content: \"▸\";\n",
       "  float: left;\n",
       "  margin-right: 0.25em;\n",
       "  color: var(--sklearn-color-icon);\n",
       "}\n",
       "\n",
       "#sk-container-id-1 label.sk-toggleable__label-arrow:hover:before {\n",
       "  color: var(--sklearn-color-text);\n",
       "}\n",
       "\n",
       "/* Toggleable content - dropdown */\n",
       "\n",
       "#sk-container-id-1 div.sk-toggleable__content {\n",
       "  max-height: 0;\n",
       "  max-width: 0;\n",
       "  overflow: hidden;\n",
       "  text-align: left;\n",
       "  /* unfitted */\n",
       "  background-color: var(--sklearn-color-unfitted-level-0);\n",
       "}\n",
       "\n",
       "#sk-container-id-1 div.sk-toggleable__content.fitted {\n",
       "  /* fitted */\n",
       "  background-color: var(--sklearn-color-fitted-level-0);\n",
       "}\n",
       "\n",
       "#sk-container-id-1 div.sk-toggleable__content pre {\n",
       "  margin: 0.2em;\n",
       "  border-radius: 0.25em;\n",
       "  color: var(--sklearn-color-text);\n",
       "  /* unfitted */\n",
       "  background-color: var(--sklearn-color-unfitted-level-0);\n",
       "}\n",
       "\n",
       "#sk-container-id-1 div.sk-toggleable__content.fitted pre {\n",
       "  /* unfitted */\n",
       "  background-color: var(--sklearn-color-fitted-level-0);\n",
       "}\n",
       "\n",
       "#sk-container-id-1 input.sk-toggleable__control:checked~div.sk-toggleable__content {\n",
       "  /* Expand drop-down */\n",
       "  max-height: 200px;\n",
       "  max-width: 100%;\n",
       "  overflow: auto;\n",
       "}\n",
       "\n",
       "#sk-container-id-1 input.sk-toggleable__control:checked~label.sk-toggleable__label-arrow:before {\n",
       "  content: \"▾\";\n",
       "}\n",
       "\n",
       "/* Pipeline/ColumnTransformer-specific style */\n",
       "\n",
       "#sk-container-id-1 div.sk-label input.sk-toggleable__control:checked~label.sk-toggleable__label {\n",
       "  color: var(--sklearn-color-text);\n",
       "  background-color: var(--sklearn-color-unfitted-level-2);\n",
       "}\n",
       "\n",
       "#sk-container-id-1 div.sk-label.fitted input.sk-toggleable__control:checked~label.sk-toggleable__label {\n",
       "  background-color: var(--sklearn-color-fitted-level-2);\n",
       "}\n",
       "\n",
       "/* Estimator-specific style */\n",
       "\n",
       "/* Colorize estimator box */\n",
       "#sk-container-id-1 div.sk-estimator input.sk-toggleable__control:checked~label.sk-toggleable__label {\n",
       "  /* unfitted */\n",
       "  background-color: var(--sklearn-color-unfitted-level-2);\n",
       "}\n",
       "\n",
       "#sk-container-id-1 div.sk-estimator.fitted input.sk-toggleable__control:checked~label.sk-toggleable__label {\n",
       "  /* fitted */\n",
       "  background-color: var(--sklearn-color-fitted-level-2);\n",
       "}\n",
       "\n",
       "#sk-container-id-1 div.sk-label label.sk-toggleable__label,\n",
       "#sk-container-id-1 div.sk-label label {\n",
       "  /* The background is the default theme color */\n",
       "  color: var(--sklearn-color-text-on-default-background);\n",
       "}\n",
       "\n",
       "/* On hover, darken the color of the background */\n",
       "#sk-container-id-1 div.sk-label:hover label.sk-toggleable__label {\n",
       "  color: var(--sklearn-color-text);\n",
       "  background-color: var(--sklearn-color-unfitted-level-2);\n",
       "}\n",
       "\n",
       "/* Label box, darken color on hover, fitted */\n",
       "#sk-container-id-1 div.sk-label.fitted:hover label.sk-toggleable__label.fitted {\n",
       "  color: var(--sklearn-color-text);\n",
       "  background-color: var(--sklearn-color-fitted-level-2);\n",
       "}\n",
       "\n",
       "/* Estimator label */\n",
       "\n",
       "#sk-container-id-1 div.sk-label label {\n",
       "  font-family: monospace;\n",
       "  font-weight: bold;\n",
       "  display: inline-block;\n",
       "  line-height: 1.2em;\n",
       "}\n",
       "\n",
       "#sk-container-id-1 div.sk-label-container {\n",
       "  text-align: center;\n",
       "}\n",
       "\n",
       "/* Estimator-specific */\n",
       "#sk-container-id-1 div.sk-estimator {\n",
       "  font-family: monospace;\n",
       "  border: 1px dotted var(--sklearn-color-border-box);\n",
       "  border-radius: 0.25em;\n",
       "  box-sizing: border-box;\n",
       "  margin-bottom: 0.5em;\n",
       "  /* unfitted */\n",
       "  background-color: var(--sklearn-color-unfitted-level-0);\n",
       "}\n",
       "\n",
       "#sk-container-id-1 div.sk-estimator.fitted {\n",
       "  /* fitted */\n",
       "  background-color: var(--sklearn-color-fitted-level-0);\n",
       "}\n",
       "\n",
       "/* on hover */\n",
       "#sk-container-id-1 div.sk-estimator:hover {\n",
       "  /* unfitted */\n",
       "  background-color: var(--sklearn-color-unfitted-level-2);\n",
       "}\n",
       "\n",
       "#sk-container-id-1 div.sk-estimator.fitted:hover {\n",
       "  /* fitted */\n",
       "  background-color: var(--sklearn-color-fitted-level-2);\n",
       "}\n",
       "\n",
       "/* Specification for estimator info (e.g. \"i\" and \"?\") */\n",
       "\n",
       "/* Common style for \"i\" and \"?\" */\n",
       "\n",
       ".sk-estimator-doc-link,\n",
       "a:link.sk-estimator-doc-link,\n",
       "a:visited.sk-estimator-doc-link {\n",
       "  float: right;\n",
       "  font-size: smaller;\n",
       "  line-height: 1em;\n",
       "  font-family: monospace;\n",
       "  background-color: var(--sklearn-color-background);\n",
       "  border-radius: 1em;\n",
       "  height: 1em;\n",
       "  width: 1em;\n",
       "  text-decoration: none !important;\n",
       "  margin-left: 1ex;\n",
       "  /* unfitted */\n",
       "  border: var(--sklearn-color-unfitted-level-1) 1pt solid;\n",
       "  color: var(--sklearn-color-unfitted-level-1);\n",
       "}\n",
       "\n",
       ".sk-estimator-doc-link.fitted,\n",
       "a:link.sk-estimator-doc-link.fitted,\n",
       "a:visited.sk-estimator-doc-link.fitted {\n",
       "  /* fitted */\n",
       "  border: var(--sklearn-color-fitted-level-1) 1pt solid;\n",
       "  color: var(--sklearn-color-fitted-level-1);\n",
       "}\n",
       "\n",
       "/* On hover */\n",
       "div.sk-estimator:hover .sk-estimator-doc-link:hover,\n",
       ".sk-estimator-doc-link:hover,\n",
       "div.sk-label-container:hover .sk-estimator-doc-link:hover,\n",
       ".sk-estimator-doc-link:hover {\n",
       "  /* unfitted */\n",
       "  background-color: var(--sklearn-color-unfitted-level-3);\n",
       "  color: var(--sklearn-color-background);\n",
       "  text-decoration: none;\n",
       "}\n",
       "\n",
       "div.sk-estimator.fitted:hover .sk-estimator-doc-link.fitted:hover,\n",
       ".sk-estimator-doc-link.fitted:hover,\n",
       "div.sk-label-container:hover .sk-estimator-doc-link.fitted:hover,\n",
       ".sk-estimator-doc-link.fitted:hover {\n",
       "  /* fitted */\n",
       "  background-color: var(--sklearn-color-fitted-level-3);\n",
       "  color: var(--sklearn-color-background);\n",
       "  text-decoration: none;\n",
       "}\n",
       "\n",
       "/* Span, style for the box shown on hovering the info icon */\n",
       ".sk-estimator-doc-link span {\n",
       "  display: none;\n",
       "  z-index: 9999;\n",
       "  position: relative;\n",
       "  font-weight: normal;\n",
       "  right: .2ex;\n",
       "  padding: .5ex;\n",
       "  margin: .5ex;\n",
       "  width: min-content;\n",
       "  min-width: 20ex;\n",
       "  max-width: 50ex;\n",
       "  color: var(--sklearn-color-text);\n",
       "  box-shadow: 2pt 2pt 4pt #999;\n",
       "  /* unfitted */\n",
       "  background: var(--sklearn-color-unfitted-level-0);\n",
       "  border: .5pt solid var(--sklearn-color-unfitted-level-3);\n",
       "}\n",
       "\n",
       ".sk-estimator-doc-link.fitted span {\n",
       "  /* fitted */\n",
       "  background: var(--sklearn-color-fitted-level-0);\n",
       "  border: var(--sklearn-color-fitted-level-3);\n",
       "}\n",
       "\n",
       ".sk-estimator-doc-link:hover span {\n",
       "  display: block;\n",
       "}\n",
       "\n",
       "/* \"?\"-specific style due to the `<a>` HTML tag */\n",
       "\n",
       "#sk-container-id-1 a.estimator_doc_link {\n",
       "  float: right;\n",
       "  font-size: 1rem;\n",
       "  line-height: 1em;\n",
       "  font-family: monospace;\n",
       "  background-color: var(--sklearn-color-background);\n",
       "  border-radius: 1rem;\n",
       "  height: 1rem;\n",
       "  width: 1rem;\n",
       "  text-decoration: none;\n",
       "  /* unfitted */\n",
       "  color: var(--sklearn-color-unfitted-level-1);\n",
       "  border: var(--sklearn-color-unfitted-level-1) 1pt solid;\n",
       "}\n",
       "\n",
       "#sk-container-id-1 a.estimator_doc_link.fitted {\n",
       "  /* fitted */\n",
       "  border: var(--sklearn-color-fitted-level-1) 1pt solid;\n",
       "  color: var(--sklearn-color-fitted-level-1);\n",
       "}\n",
       "\n",
       "/* On hover */\n",
       "#sk-container-id-1 a.estimator_doc_link:hover {\n",
       "  /* unfitted */\n",
       "  background-color: var(--sklearn-color-unfitted-level-3);\n",
       "  color: var(--sklearn-color-background);\n",
       "  text-decoration: none;\n",
       "}\n",
       "\n",
       "#sk-container-id-1 a.estimator_doc_link.fitted:hover {\n",
       "  /* fitted */\n",
       "  background-color: var(--sklearn-color-fitted-level-3);\n",
       "}\n",
       "</style><div id=\"sk-container-id-1\" class=\"sk-top-container\"><div class=\"sk-text-repr-fallback\"><pre>Pipeline(steps=[(&#x27;feature_scaler&#x27;, StandardScaler()),\n",
       "                (&#x27;estimator&#x27;,\n",
       "                 ExtraTreesRegressor(bootstrap=True,\n",
       "                                     ccp_alpha=2.65222118058198e-13,\n",
       "                                     max_depth=33,\n",
       "                                     max_features=0.919340009649832,\n",
       "                                     max_samples=0.27022079002840055,\n",
       "                                     min_impurity_decrease=1.7061831742407581e-15,\n",
       "                                     min_samples_split=14, n_estimators=481,\n",
       "                                     n_jobs=1))])</pre><b>In a Jupyter environment, please rerun this cell to show the HTML representation or trust the notebook. <br />On GitHub, the HTML representation is unable to render, please try loading this page with nbviewer.org.</b></div><div class=\"sk-container\" hidden><div class=\"sk-item sk-dashed-wrapped\"><div class=\"sk-label-container\"><div class=\"sk-label fitted sk-toggleable\"><input class=\"sk-toggleable__control sk-hidden--visually\" id=\"sk-estimator-id-1\" type=\"checkbox\" ><label for=\"sk-estimator-id-1\" class=\"sk-toggleable__label fitted sk-toggleable__label-arrow fitted\">&nbsp;&nbsp;Pipeline<a class=\"sk-estimator-doc-link fitted\" rel=\"noreferrer\" target=\"_blank\" href=\"https://scikit-learn.org/1.5/modules/generated/sklearn.pipeline.Pipeline.html\">?<span>Documentation for Pipeline</span></a><span class=\"sk-estimator-doc-link fitted\">i<span>Fitted</span></span></label><div class=\"sk-toggleable__content fitted\"><pre>Pipeline(steps=[(&#x27;feature_scaler&#x27;, StandardScaler()),\n",
       "                (&#x27;estimator&#x27;,\n",
       "                 ExtraTreesRegressor(bootstrap=True,\n",
       "                                     ccp_alpha=2.65222118058198e-13,\n",
       "                                     max_depth=33,\n",
       "                                     max_features=0.919340009649832,\n",
       "                                     max_samples=0.27022079002840055,\n",
       "                                     min_impurity_decrease=1.7061831742407581e-15,\n",
       "                                     min_samples_split=14, n_estimators=481,\n",
       "                                     n_jobs=1))])</pre></div> </div></div><div class=\"sk-serial\"><div class=\"sk-item\"><div class=\"sk-estimator fitted sk-toggleable\"><input class=\"sk-toggleable__control sk-hidden--visually\" id=\"sk-estimator-id-2\" type=\"checkbox\" ><label for=\"sk-estimator-id-2\" class=\"sk-toggleable__label fitted sk-toggleable__label-arrow fitted\">&nbsp;StandardScaler<a class=\"sk-estimator-doc-link fitted\" rel=\"noreferrer\" target=\"_blank\" href=\"https://scikit-learn.org/1.5/modules/generated/sklearn.preprocessing.StandardScaler.html\">?<span>Documentation for StandardScaler</span></a></label><div class=\"sk-toggleable__content fitted\"><pre>StandardScaler()</pre></div> </div></div><div class=\"sk-item\"><div class=\"sk-estimator fitted sk-toggleable\"><input class=\"sk-toggleable__control sk-hidden--visually\" id=\"sk-estimator-id-3\" type=\"checkbox\" ><label for=\"sk-estimator-id-3\" class=\"sk-toggleable__label fitted sk-toggleable__label-arrow fitted\">&nbsp;ExtraTreesRegressor<a class=\"sk-estimator-doc-link fitted\" rel=\"noreferrer\" target=\"_blank\" href=\"https://scikit-learn.org/1.5/modules/generated/sklearn.ensemble.ExtraTreesRegressor.html\">?<span>Documentation for ExtraTreesRegressor</span></a></label><div class=\"sk-toggleable__content fitted\"><pre>ExtraTreesRegressor(bootstrap=True, ccp_alpha=2.65222118058198e-13,\n",
       "                    max_depth=33, max_features=0.919340009649832,\n",
       "                    max_samples=0.27022079002840055,\n",
       "                    min_impurity_decrease=1.7061831742407581e-15,\n",
       "                    min_samples_split=14, n_estimators=481, n_jobs=1)</pre></div> </div></div></div></div></div></div>"
      ],
      "text/plain": [
       "Pipeline(steps=[('feature_scaler', StandardScaler()),\n",
       "                ('estimator',\n",
       "                 ExtraTreesRegressor(bootstrap=True,\n",
       "                                     ccp_alpha=2.65222118058198e-13,\n",
       "                                     max_depth=33,\n",
       "                                     max_features=0.919340009649832,\n",
       "                                     max_samples=0.27022079002840055,\n",
       "                                     min_impurity_decrease=1.7061831742407581e-15,\n",
       "                                     min_samples_split=14, n_estimators=481,\n",
       "                                     n_jobs=1))])"
      ]
     },
     "execution_count": 31,
     "metadata": {},
     "output_type": "execute_result"
    }
   ],
   "source": [
    "reg_sklearn = setup.load_best_model(\"local_nick\", \"ET\", target, kind)\n",
    "reg_sklearn.fit(Xtrain, ytrain)"
   ]
  },
  {
   "cell_type": "code",
   "execution_count": 34,
   "metadata": {},
   "outputs": [
    {
     "name": "stderr",
     "output_type": "stream",
     "text": [
      "Sampling: 100%|██████████| 2610/2610 [00:05<00:00, 472.21it/s]\n",
      "Summarizing: 100%|██████████| 2610/2610 [00:31<00:00, 83.22it/s]\n"
     ]
    }
   ],
   "source": [
    "ypred_sklearn = reg_sklearn.predict(Xtest)\n",
    "ypred_sbi = reg.sample_summarized(Xtest, n_samples=3000, inverse_transform=True)"
   ]
  },
  {
   "cell_type": "code",
   "execution_count": 35,
   "metadata": {},
   "outputs": [
    {
     "name": "stdout",
     "output_type": "stream",
     "text": [
      "Spearman corr. of ET and SBI predictions = 0.9761792502051647\n",
      "MAE of ET predictions                    = 0.355897483365208\n",
      "MAE of SBI predictions                   = 0.350058926028602\n",
      "MAE of SBI - ET predictions              = 0.12646068746155592\n"
     ]
    }
   ],
   "source": [
    "print(f\"Spearman corr. of ET and SBI predictions = {spearmanr(ypred_sbi[:, 0], ypred_sklearn)[0]}\")\n",
    "print(f\"MAE of ET predictions                    = {np.median(np.abs(ypred_sklearn - ytest))}\")\n",
    "print(f\"MAE of SBI predictions                   = {np.median(np.abs(ypred_sbi[:, 0] - ytest))}\")\n",
    "print(f\"MAE of SBI - ET predictions              = {np.median(np.abs(ypred_sbi[:, 0] - ypred_sklearn))}\")"
   ]
  },
  {
   "cell_type": "code",
   "execution_count": 38,
   "metadata": {},
   "outputs": [
    {
     "data": {
      "image/png": "[encoded data removed]",
      "text/plain": [
       "<Figure size 331x331 with 1 Axes>"
      ]
     },
     "metadata": {},
     "output_type": "display_data"
    }
   ],
   "source": [
    "plot_uncertainty = False\n",
    "\n",
    "f, axs = plt.subplots(1,1,figsize=(3.31,3.31),sharex=True,sharey=True)\n",
    "plt.subplots_adjust(left=0.17, right=0.85, top=0.95, bottom=0.15)\n",
    "\n",
    "if plot_uncertainty:\n",
    "    dyupper = ypred_sbi[:, 1] - ypred_sbi[:, 0]\n",
    "    dylower = ypred_sbi[:, 0] - ypred_sbi[:, 2]\n",
    "    axs.errorbar(ypred_sklearn, ypred_sbi[:, 0], yerr=[dylower, dyupper], fmt=\"o\", ms=1, capsize=3)\n",
    "else:\n",
    "    axs.scatter(ypred_sklearn, ypred_sbi[:, 0], s=0.5, c='k')\n",
    "\n",
    "x0 = np.median(ytest)\n",
    "axs.axline([x0, x0], slope=1, color=\"r\", ls=\"--\")\n",
    "axs.set_xlabel(f\"ET prediction of {target}\")\n",
    "axs.set_ylabel(f\"SBI prediction of {target}\")\n",
    "\n",
    "plt.savefig(f\"../plots/sbi_et_{target}_comparison.png\", dpi=450)\n"
   ]
  },
  {
   "cell_type": "code",
   "execution_count": null,
   "metadata": {},
   "outputs": [],
   "source": []
  }
 ],
 "metadata": {
  "kernelspec": {
   "display_name": "venv_photofesc",
   "language": "python",
   "name": "python3"
  },
  "language_info": {
   "codemirror_mode": {
    "name": "ipython",
    "version": 3
   },
   "file_extension": ".py",
   "mimetype": "text/x-python",
   "name": "python",
   "nbconvert_exporter": "python",
   "pygments_lexer": "ipython3",
   "version": "3.12.5"
  }
 },
 "nbformat": 4,
 "nbformat_minor": 2
}
